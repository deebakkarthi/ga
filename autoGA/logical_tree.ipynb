{
 "cells": [
  {
   "cell_type": "code",
   "execution_count": 1,
   "metadata": {},
   "outputs": [],
   "source": [
    "import operator\n",
    "import random\n",
    "from deap import base\n",
    "from deap import creator\n",
    "from deap import tools\n",
    "from deap import algorithms\n",
    "from deap import gp\n",
    "from sklearn.model_selection import train_test_split\n",
    "from sklearn.metrics import accuracy_score, f1_score, recall_score, classification_report\n",
    "import numpy as np\n",
    "import pandas as pd\n",
    "from functools import partial"
   ]
  },
  {
   "cell_type": "markdown",
   "metadata": {},
   "source": [
    "# Reading the dataset"
   ]
  },
  {
   "cell_type": "code",
   "execution_count": 2,
   "metadata": {},
   "outputs": [],
   "source": [
    "df = pd.read_csv(\n",
    "    \"./german.tsv\",\n",
    "    sep=\"\\t\",\n",
    "    names=[\n",
    "        \"A0\",\n",
    "        \"A1\",\n",
    "        \"A2\",\n",
    "        \"A3\",\n",
    "        \"A4\",\n",
    "        \"A5\",\n",
    "        \"A6\",\n",
    "        \"A7\",\n",
    "        \"A8\",\n",
    "        \"A9\",\n",
    "        \"A10\",\n",
    "        \"A11\",\n",
    "        \"A12\",\n",
    "        \"A13\",\n",
    "        \"A14\",\n",
    "        \"A15\",\n",
    "        \"A16\",\n",
    "        \"A17\",\n",
    "        \"A18\",\n",
    "        \"A19\",\n",
    "        \"A20\",\n",
    "        \"A21\",\n",
    "        \"A22\",\n",
    "        \"A23\",\n",
    "        \"target\",\n",
    "    ],\n",
    ")"
   ]
  },
  {
   "cell_type": "code",
   "execution_count": 3,
   "metadata": {},
   "outputs": [
    {
     "name": "stdout",
     "output_type": "stream",
     "text": [
      "<class 'pandas.core.frame.DataFrame'>\n",
      "RangeIndex: 1000 entries, 0 to 999\n",
      "Data columns (total 25 columns):\n",
      " #   Column  Non-Null Count  Dtype\n",
      "---  ------  --------------  -----\n",
      " 0   A0      1000 non-null   int64\n",
      " 1   A1      1000 non-null   int64\n",
      " 2   A2      1000 non-null   int64\n",
      " 3   A3      1000 non-null   int64\n",
      " 4   A4      1000 non-null   int64\n",
      " 5   A5      1000 non-null   int64\n",
      " 6   A6      1000 non-null   int64\n",
      " 7   A7      1000 non-null   int64\n",
      " 8   A8      1000 non-null   int64\n",
      " 9   A9      1000 non-null   int64\n",
      " 10  A10     1000 non-null   int64\n",
      " 11  A11     1000 non-null   int64\n",
      " 12  A12     1000 non-null   int64\n",
      " 13  A13     1000 non-null   int64\n",
      " 14  A14     1000 non-null   int64\n",
      " 15  A15     1000 non-null   int64\n",
      " 16  A16     1000 non-null   int64\n",
      " 17  A17     1000 non-null   int64\n",
      " 18  A18     1000 non-null   int64\n",
      " 19  A19     1000 non-null   int64\n",
      " 20  A20     1000 non-null   int64\n",
      " 21  A21     1000 non-null   int64\n",
      " 22  A22     1000 non-null   int64\n",
      " 23  A23     1000 non-null   int64\n",
      " 24  target  1000 non-null   int64\n",
      "dtypes: int64(25)\n",
      "memory usage: 195.4 KB\n"
     ]
    }
   ],
   "source": [
    "df.info()"
   ]
  },
  {
   "cell_type": "code",
   "execution_count": 4,
   "metadata": {},
   "outputs": [
    {
     "data": {
      "text/plain": [
       "Index(['A0', 'A1', 'A2', 'A3', 'A4', 'A5', 'A6', 'A7', 'A8', 'A9', 'A10',\n",
       "       'A11', 'A12', 'A13', 'A14', 'A15', 'A16', 'A17', 'A18', 'A19', 'A20',\n",
       "       'A21', 'A22', 'A23', 'target'],\n",
       "      dtype='object')"
      ]
     },
     "execution_count": 4,
     "metadata": {},
     "output_type": "execute_result"
    }
   ],
   "source": [
    "df.columns"
   ]
  },
  {
   "cell_type": "code",
   "execution_count": 5,
   "metadata": {},
   "outputs": [],
   "source": [
    "X = df.iloc[:, :-1]\n",
    "X = X.astype(np.float64)\n",
    "y = df.iloc[:, -1]"
   ]
  },
  {
   "cell_type": "code",
   "execution_count": 6,
   "metadata": {},
   "outputs": [
    {
     "name": "stdout",
     "output_type": "stream",
     "text": [
      "<class 'pandas.core.frame.DataFrame'>\n",
      "RangeIndex: 1000 entries, 0 to 999\n",
      "Data columns (total 24 columns):\n",
      " #   Column  Non-Null Count  Dtype  \n",
      "---  ------  --------------  -----  \n",
      " 0   A0      1000 non-null   float64\n",
      " 1   A1      1000 non-null   float64\n",
      " 2   A2      1000 non-null   float64\n",
      " 3   A3      1000 non-null   float64\n",
      " 4   A4      1000 non-null   float64\n",
      " 5   A5      1000 non-null   float64\n",
      " 6   A6      1000 non-null   float64\n",
      " 7   A7      1000 non-null   float64\n",
      " 8   A8      1000 non-null   float64\n",
      " 9   A9      1000 non-null   float64\n",
      " 10  A10     1000 non-null   float64\n",
      " 11  A11     1000 non-null   float64\n",
      " 12  A12     1000 non-null   float64\n",
      " 13  A13     1000 non-null   float64\n",
      " 14  A14     1000 non-null   float64\n",
      " 15  A15     1000 non-null   float64\n",
      " 16  A16     1000 non-null   float64\n",
      " 17  A17     1000 non-null   float64\n",
      " 18  A18     1000 non-null   float64\n",
      " 19  A19     1000 non-null   float64\n",
      " 20  A20     1000 non-null   float64\n",
      " 21  A21     1000 non-null   float64\n",
      " 22  A22     1000 non-null   float64\n",
      " 23  A23     1000 non-null   float64\n",
      "dtypes: float64(24)\n",
      "memory usage: 187.6 KB\n"
     ]
    }
   ],
   "source": [
    "X.info()"
   ]
  },
  {
   "cell_type": "code",
   "execution_count": 7,
   "metadata": {},
   "outputs": [
    {
     "data": {
      "text/plain": [
       "Index(['A0', 'A1', 'A2', 'A3', 'A4', 'A5', 'A6', 'A7', 'A8', 'A9', 'A10',\n",
       "       'A11', 'A12', 'A13', 'A14', 'A15', 'A16', 'A17', 'A18', 'A19', 'A20',\n",
       "       'A21', 'A22', 'A23'],\n",
       "      dtype='object')"
      ]
     },
     "execution_count": 7,
     "metadata": {},
     "output_type": "execute_result"
    }
   ],
   "source": [
    "X.columns"
   ]
  },
  {
   "cell_type": "code",
   "execution_count": 8,
   "metadata": {},
   "outputs": [],
   "source": [
    "X_train, X_test, y_train, y_test = train_test_split(X, y)"
   ]
  },
  {
   "cell_type": "code",
   "execution_count": 9,
   "metadata": {},
   "outputs": [
    {
     "name": "stdout",
     "output_type": "stream",
     "text": [
      "(750, 24) (250, 24)\n"
     ]
    }
   ],
   "source": [
    "print(X_train.shape, X_test.shape)"
   ]
  },
  {
   "cell_type": "code",
   "execution_count": 10,
   "metadata": {},
   "outputs": [
    {
     "name": "stdout",
     "output_type": "stream",
     "text": [
      "(750,) (250,)\n"
     ]
    }
   ],
   "source": [
    "print(y_train.shape, y_test.shape)"
   ]
  },
  {
   "cell_type": "code",
   "execution_count": 11,
   "metadata": {},
   "outputs": [],
   "source": [
    "def protected_div(left, right):\n",
    "    if right != 0:\n",
    "        return np.float64(left / right)\n",
    "    else:\n",
    "        return np.float64(1)"
   ]
  },
  {
   "cell_type": "code",
   "execution_count": 18,
   "metadata": {},
   "outputs": [],
   "source": [
    "def individual_create():\n",
    "    \"\"\"\n",
    "    00 tree_type - ARITHMETIC, LOGICAL, DECISION\n",
    "    01 pop_size - 100, 200, 300\n",
    "    02 tree_gen_method - FULL, GROW, HALF_AND_HALF\n",
    "    03 initial_depth- [2, 15] [2, 8] for decision trees\n",
    "    04 offspring_depth - [2, 15] [2, 8] for decision trees\n",
    "    05 selection_method = FITNESS_PROP, TOURNAMENT\n",
    "    06 selection_size - [2, 10]\n",
    "    07 reproduction_rate - [0, 100]\n",
    "    08 mut_type - GROW, SHRINK\n",
    "    09 max_mut_depth - [2, 6]\n",
    "    10 control_flow - FIXED, RANDOM\n",
    "    11 op_combination - [0, 6] CX_MUT, CX, MUT, CX_MUT_PRESET, MUT_RAND_CX, CX_RAND_MUT, CREATE\n",
    "    12 fitness_type - [0, 4] ACC, F_SCORE, W_ACC, RAND_W_ACC, TPR\n",
    "    13 nr_gen - [50, 200]\n",
    "    \"\"\"\n",
    "    tmp = np.empty(14, dtype=int)\n",
    "    # TODO do decision tree later\n",
    "    # change this to (0, 2)\n",
    "    tmp[0] = random.randint(0, 1)\n",
    "    tmp[1] = random.choice([100, 200, 300])\n",
    "    tmp[2] = random.randint(0, 2)\n",
    "    if tmp[0] == 2:\n",
    "        tmp[3] = random.randint(2, 8)\n",
    "        tmp[4] = random.randint(2, 8)\n",
    "    else:\n",
    "        tmp[3] = random.randint(2, 15)\n",
    "        tmp[4] = random.randint(2, 15)\n",
    "    tmp[5] = random.randint(0, 1)\n",
    "    tmp[6] = random.randint(2, 10)\n",
    "    tmp[7] = random.randint(0, 100)\n",
    "    tmp[8] = random.randint(0, 1)\n",
    "    tmp[9] = random.randint(2, 6)\n",
    "    tmp[10] = random.randint(0, 1)\n",
    "    tmp[11] = random.randint(0, 6)\n",
    "    tmp[12] = random.randint(0, 4)\n",
    "    tmp[13] = random.randint(50, 200)\n",
    "    return tmp"
   ]
  },
  {
   "cell_type": "code",
   "execution_count": 26,
   "metadata": {},
   "outputs": [],
   "source": [
    "def eaSimple(\n",
    "    population,\n",
    "    toolbox,\n",
    "    cxpb,\n",
    "    mutpb,\n",
    "    ngen,\n",
    "    stats=None,\n",
    "    halloffame=None,\n",
    "    verbose=__debug__,\n",
    "    use_varAnd=True,\n",
    "):\n",
    "    logbook = tools.Logbook()\n",
    "    logbook.header = [\"gen\", \"nevals\"] + (stats.fields if stats else [])\n",
    "\n",
    "    # Evaluate the individuals with an invalid fitness\n",
    "    invalid_ind = [ind for ind in population if not ind.fitness.valid]\n",
    "    fitnesses = toolbox.map(toolbox.evaluate, invalid_ind)\n",
    "    for ind, fit in zip(invalid_ind, fitnesses):\n",
    "        ind.fitness.values = fit\n",
    "\n",
    "    if halloffame is not None:\n",
    "        halloffame.update(population)\n",
    "\n",
    "    record = stats.compile(population) if stats else {}\n",
    "    logbook.record(gen=0, nevals=len(invalid_ind), **record)\n",
    "    if verbose:\n",
    "        print(logbook.stream)\n",
    "\n",
    "    # Begin the generational process\n",
    "    for gen in range(1, ngen + 1):\n",
    "        # Select the next generation individuals\n",
    "        offspring = toolbox.select(population, len(population))\n",
    "\n",
    "        # Vary the pool of individuals\n",
    "        if use_varAnd:\n",
    "            offspring = algorithms.varAnd(offspring, toolbox, cxpb, mutpb)\n",
    "        else:\n",
    "            offspring = algorithms.varOr(\n",
    "                offspring, toolbox, len(offspring), cxpb, mutpb\n",
    "            )\n",
    "\n",
    "        # Evaluate the individuals with an invalid fitness\n",
    "        invalid_ind = [ind for ind in offspring if not ind.fitness.valid]\n",
    "        fitnesses = toolbox.map(toolbox.evaluate, invalid_ind)\n",
    "        for ind, fit in zip(invalid_ind, fitnesses):\n",
    "            ind.fitness.values = fit\n",
    "\n",
    "        # Update the hall of fame with the generated individuals\n",
    "        if halloffame is not None:\n",
    "            halloffame.update(offspring)\n",
    "\n",
    "        # Replace the current population by the offspring\n",
    "        population[:] = offspring\n",
    "\n",
    "        # Append the current generation statistics to the logbook\n",
    "        record = stats.compile(population) if stats else {}\n",
    "        logbook.record(gen=gen, nevals=len(invalid_ind), **record)\n",
    "        if verbose:\n",
    "            print(logbook.stream)\n",
    "\n",
    "    return population, logbook"
   ]
  },
  {
   "cell_type": "code",
   "execution_count": 233,
   "metadata": {},
   "outputs": [],
   "source": [
    "def inner_evaluate(individual, tree_type, fitness_type, toolbox):\n",
    "    func = toolbox.compile(expr=individual)\n",
    "    y_pred = [func(*data) for _, data in X_train.iterrows()]\n",
    "    y_labels = y.unique()\n",
    "    # Output of arithmetic trees is float\n",
    "    if tree_type == 0:\n",
    "        y_pred = list(map(lambda x: y_labels[0] if x > 0 else y_labels[1], y_pred))\n",
    "    elif tree_type == 1:\n",
    "        y_pred = list(map(lambda x: y_labels[0] if x else y_labels[1], y_pred))\n",
    "    else:\n",
    "        raise ValueError(\"tree_type should be in [0, 2]\")\n",
    "\n",
    "    if fitness_type == 0:\n",
    "        ret =  accuracy_score(y_true=y_train, y_pred=y_pred)\n",
    "    elif fitness_type == 1:\n",
    "        ret =  f1_score(y_train, y_pred)\n",
    "    elif fitness_type == 2:\n",
    "        ret =  (accuracy_score(y_train, y_pred) + f1_score(y_train, y_pred)) / 2\n",
    "    elif fitness_type == 3:\n",
    "        tmp = random.random()\n",
    "        ret =  tmp * accuracy_score(y_train, y_pred) + (1 - tmp) * f1_score(\n",
    "            y_train, y_pred\n",
    "        )\n",
    "    elif fitness_type == 4:\n",
    "        ret =  recall_score(y_train, y_pred)\n",
    "    return ret,"
   ]
  },
  {
   "cell_type": "code",
   "execution_count": 234,
   "metadata": {},
   "outputs": [],
   "source": [
    "pset = gp.PrimitiveSetTyped(\"main\", [type(X[col][0]) for col in X_train], np.float64, \"IN\")"
   ]
  },
  {
   "cell_type": "code",
   "execution_count": 235,
   "metadata": {},
   "outputs": [],
   "source": [
    "pset.addPrimitive(operator.add, [np.float64, np.float64], np.float64)\n",
    "pset.addPrimitive(operator.sub, [np.float64, np.float64], np.float64)\n",
    "pset.addPrimitive(operator.mul, [np.float64, np.float64], np.float64)\n",
    "pset.addPrimitive(protected_div, [np.float64, np.float64], np.float64)"
   ]
  },
  {
   "cell_type": "code",
   "execution_count": 236,
   "metadata": {},
   "outputs": [],
   "source": [
    "# Add this constant to prevent no primitive found error\n",
    "# This occurs because there may be an odd number of inputs and all the functions are binary\n",
    "pset.addEphemeralConstant(name=\"RAND\", ephemeral=partial(np.float64, random.random()), ret_type=np.float64)"
   ]
  },
  {
   "cell_type": "code",
   "execution_count": 237,
   "metadata": {},
   "outputs": [
    {
     "name": "stderr",
     "output_type": "stream",
     "text": [
      "/Users/deebakkarthi/.local/share/conda/envs/autoGA/lib/python3.12/site-packages/deap/creator.py:185: RuntimeWarning: A class named 'InnerFitnessMax' has already been created and it will be overwritten. Consider deleting previous creation of that class or rename it.\n",
      "  warnings.warn(\"A class named '{0}' has already been created and it \"\n",
      "/Users/deebakkarthi/.local/share/conda/envs/autoGA/lib/python3.12/site-packages/deap/creator.py:185: RuntimeWarning: A class named 'InnerIndividual' has already been created and it will be overwritten. Consider deleting previous creation of that class or rename it.\n",
      "  warnings.warn(\"A class named '{0}' has already been created and it \"\n"
     ]
    }
   ],
   "source": [
    "creator.create(\"InnerFitnessMax\", base.Fitness, weights=(1.0,))\n",
    "creator.create(\"InnerIndividual\", gp.PrimitiveTree, fitness=creator.InnerFitnessMax)"
   ]
  },
  {
   "cell_type": "code",
   "execution_count": 238,
   "metadata": {},
   "outputs": [],
   "source": [
    "toolbox = base.Toolbox()"
   ]
  },
  {
   "cell_type": "code",
   "execution_count": 243,
   "metadata": {},
   "outputs": [],
   "source": [
    "individual = individual_create()"
   ]
  },
  {
   "cell_type": "code",
   "execution_count": 244,
   "metadata": {},
   "outputs": [
    {
     "data": {
      "text/plain": [
       "array([  0, 100,   0,  14,   6,   1,   7,  32,   0,   5,   1,   1,   0,\n",
       "        89])"
      ]
     },
     "execution_count": 244,
     "metadata": {},
     "output_type": "execute_result"
    }
   ],
   "source": [
    "individual"
   ]
  },
  {
   "cell_type": "code",
   "execution_count": 245,
   "metadata": {},
   "outputs": [],
   "source": [
    "if individual[2] == 0:\n",
    "    toolbox.register(\"expr\", gp.genFull, pset=pset, min_=2, max_=individual[3])\n",
    "elif individual[2] == 1:\n",
    "    toolbox.register(\"expr\", gp.genGrow, pset=pset, min_=2, max_=individual[3])\n",
    "elif individual[2] == 2:\n",
    "    toolbox.register(\n",
    "        \"expr\", gp.genHalfAndHalf, pset=pset, min_=2, max_=individual[3]\n",
    "    )\n",
    "else:\n",
    "    raise ValueError(\"tree_gen_method should be from [0, 1, 2]\")"
   ]
  },
  {
   "cell_type": "code",
   "execution_count": 246,
   "metadata": {},
   "outputs": [],
   "source": [
    "toolbox.register(\"individual\", tools.initIterate, creator.InnerIndividual, toolbox.expr)\n",
    "toolbox.register(\"population\", tools.initRepeat, list, toolbox.individual)\n",
    "toolbox.register(\"compile\", gp.compile, pset=pset)"
   ]
  },
  {
   "cell_type": "code",
   "execution_count": 247,
   "metadata": {},
   "outputs": [],
   "source": [
    "toolbox.register(\n",
    "    \"evaluate\",\n",
    "    inner_evaluate,\n",
    "    fitness_type=individual[12],\n",
    "    toolbox=toolbox,\n",
    "    tree_type=individual[0],\n",
    ")\n",
    "if individual[5] == 0:\n",
    "    toolbox.register(\"select\", tools.selRoulette)\n",
    "elif individual[5] == 1:\n",
    "    toolbox.register(\"select\", tools.selTournament, tournsize=individual[6])\n",
    "else:\n",
    "    raise ValueError(\"selection_method should be from [0, 1]\")\n",
    "\n",
    "toolbox.register(\"mate\", gp.cxOnePoint)\n",
    "toolbox.register(\"expr_mut\", gp.genFull, min_=2, max_=individual[9])\n",
    "\n",
    "if individual[8] == 0:\n",
    "    toolbox.register(\"mutate\", gp.mutUniform, expr=toolbox.expr_mut, pset=pset)\n",
    "elif individual[8] == 1:\n",
    "    toolbox.register(\"mutate\", gp.mutShrink)\n",
    "else:\n",
    "    raise ValueError(\"mut_type should be from [0, 1]\")\n",
    "\n",
    "use_varAnd = True\n",
    "if individual[11] == 0:\n",
    "    cxpb = individual[7]\n",
    "    mutpb = 100 - cxpb\n",
    "    mutpb = float(mutpb / 100)\n",
    "    cxpb = float(cxpb / 100)\n",
    "elif individual[11] == 1:\n",
    "    cxpb = 1\n",
    "    mutpb = 0\n",
    "elif individual[11] == 2:\n",
    "    cxpb = 0\n",
    "    mutpb = 1\n",
    "elif individual[11] == 3:\n",
    "    cxpb = random.choice([10, 20, 30, 40, 50, 60, 70, 80, 90])\n",
    "    mutpb = 100 - cxpb\n",
    "    mutpb = float(mutpb / 100)\n",
    "    cxpb = float(cxpb / 100)\n",
    "elif individual[11] == 4:\n",
    "    cxpb = random.random()\n",
    "    mutpb = 1\n",
    "elif individual[11] == 5:\n",
    "    cxpb = 1\n",
    "    mutpb = random.random()\n",
    "elif individual[11] == 6:\n",
    "    cxpb = 0\n",
    "    mutpb = 0\n",
    "    use_varAnd = False\n",
    "else:\n",
    "    raise ValueError(\"op_combination should be in [0, 6]\")"
   ]
  },
  {
   "cell_type": "code",
   "execution_count": 248,
   "metadata": {},
   "outputs": [],
   "source": [
    "pop = toolbox.population(n=individual[1])"
   ]
  },
  {
   "cell_type": "code",
   "execution_count": 249,
   "metadata": {},
   "outputs": [],
   "source": [
    "hof = tools.HallOfFame(1)"
   ]
  },
  {
   "cell_type": "code",
   "execution_count": 250,
   "metadata": {},
   "outputs": [],
   "source": [
    "stats = tools.Statistics(lambda ind: ind.fitness.values)"
   ]
  },
  {
   "cell_type": "code",
   "execution_count": 251,
   "metadata": {},
   "outputs": [],
   "source": [
    "stats.register(\"avg\", np.mean)\n",
    "stats.register(\"std\", np.std)\n",
    "stats.register(\"min\", np.min)\n",
    "stats.register(\"max\", np.max)"
   ]
  },
  {
   "cell_type": "code",
   "execution_count": 252,
   "metadata": {},
   "outputs": [
    {
     "name": "stdout",
     "output_type": "stream",
     "text": [
      "gen\tnevals\tavg     \tstd     \tmin  \tmax     \n",
      "0  \t100   \t0.491013\t0.104752\t0.308\t0.697333\n",
      "1  \t68    \t0.612173\t0.0777798\t0.316\t0.697333\n",
      "2  \t72    \t0.66212 \t0.0714381\t0.365333\t0.698667\n",
      "3  \t50    \t0.675027\t0.0723114\t0.316   \t0.713333\n",
      "4  \t64    \t0.697413\t0.0155043\t0.569333\t0.716   \n",
      "5  \t67    \t0.690347\t0.0619012\t0.376   \t0.716   \n",
      "6  \t51    \t0.71272 \t0.00495462\t0.686667\t0.716   \n",
      "7  \t62    \t0.7078  \t0.0424576 \t0.341333\t0.718667\n",
      "8  \t57    \t0.710893\t0.0269802 \t0.474667\t0.721333\n",
      "9  \t62    \t0.711867\t0.0293482 \t0.492   \t0.722667\n",
      "10 \t55    \t0.716373\t0.00881026\t0.674667\t0.722667\n",
      "11 \t59    \t0.705467\t0.0534038 \t0.334667\t0.724   \n",
      "12 \t65    \t0.714893\t0.0246966 \t0.506667\t0.726667\n",
      "13 \t55    \t0.717653\t0.0183246 \t0.573333\t0.726667\n",
      "14 \t53    \t0.714933\t0.0459197 \t0.308   \t0.728   \n",
      "15 \t55    \t0.723667\t0.00792044\t0.673333\t0.729333\n",
      "16 \t63    \t0.717587\t0.0363634 \t0.437333\t0.730667\n",
      "17 \t69    \t0.72052 \t0.0369922 \t0.364   \t0.730667\n",
      "18 \t57    \t0.71476 \t0.052485  \t0.342667\t0.730667\n",
      "19 \t68    \t0.723507\t0.0284857 \t0.470667\t0.732   \n",
      "20 \t57    \t0.719893\t0.0466368 \t0.350667\t0.732   \n",
      "21 \t62    \t0.717253\t0.0471826 \t0.332   \t0.732   \n",
      "22 \t55    \t0.727467\t0.0150885 \t0.596   \t0.732   \n",
      "23 \t54    \t0.725667\t0.0213578 \t0.566667\t0.732   \n",
      "24 \t65    \t0.721027\t0.0311669 \t0.56    \t0.732   \n",
      "25 \t65    \t0.72604 \t0.016792  \t0.589333\t0.732   \n",
      "26 \t64    \t0.720093\t0.0463365 \t0.377333\t0.732   \n",
      "27 \t61    \t0.718707\t0.0372019 \t0.488   \t0.732   \n",
      "28 \t62    \t0.720213\t0.0354324 \t0.541333\t0.733333\n",
      "29 \t67    \t0.724987\t0.0406881 \t0.325333\t0.733333\n",
      "30 \t59    \t0.728387\t0.0127531 \t0.654667\t0.733333\n",
      "31 \t64    \t0.720213\t0.049084  \t0.322667\t0.734667\n",
      "32 \t60    \t0.723187\t0.0414527 \t0.342667\t0.734667\n",
      "33 \t54    \t0.72536 \t0.0325508 \t0.490667\t0.737333\n",
      "34 \t56    \t0.730267\t0.00918259\t0.682667\t0.736   \n",
      "35 \t53    \t0.721067\t0.0499532 \t0.333333\t0.736   \n",
      "36 \t61    \t0.727627\t0.0335471 \t0.438667\t0.736   \n",
      "37 \t60    \t0.72712 \t0.0243699 \t0.590667\t0.736   \n",
      "38 \t66    \t0.72848 \t0.0257119 \t0.56    \t0.736   \n",
      "39 \t58    \t0.728373\t0.025027  \t0.512   \t0.736   \n",
      "40 \t56    \t0.729347\t0.0227148 \t0.537333\t0.736   \n",
      "41 \t71    \t0.730267\t0.0122659 \t0.669333\t0.736   \n",
      "42 \t62    \t0.7272  \t0.0221791 \t0.562667\t0.737333\n",
      "43 \t57    \t0.7322  \t0.012008  \t0.656   \t0.737333\n",
      "44 \t57    \t0.725173\t0.0381288 \t0.421333\t0.737333\n",
      "45 \t73    \t0.726893\t0.0398905 \t0.356   \t0.737333\n",
      "46 \t62    \t0.733627\t0.0088776 \t0.681333\t0.737333\n",
      "47 \t60    \t0.733067\t0.00968114\t0.693333\t0.738667\n",
      "48 \t63    \t0.73408 \t0.0113878 \t0.633333\t0.738667\n",
      "49 \t64    \t0.731787\t0.0152207 \t0.652   \t0.738667\n",
      "50 \t54    \t0.731453\t0.0244041 \t0.521333\t0.738667\n"
     ]
    }
   ],
   "source": [
    "pop, log = algorithms.eaSimple(\n",
    "    pop,\n",
    "    toolbox,\n",
    "    cxpb=0.5,\n",
    "    mutpb=0.2,\n",
    "    ngen=50,\n",
    "    stats=stats,\n",
    "    halloffame=hof,\n",
    "    verbose=True,\n",
    ")"
   ]
  },
  {
   "cell_type": "code",
   "execution_count": 253,
   "metadata": {},
   "outputs": [
    {
     "data": {
      "text/plain": [
       "[{'gen': 0,\n",
       "  'nevals': 100,\n",
       "  'avg': 0.4910133333333334,\n",
       "  'std': 0.10475191772309789,\n",
       "  'min': 0.308,\n",
       "  'max': 0.6973333333333334},\n",
       " {'gen': 1,\n",
       "  'nevals': 68,\n",
       "  'avg': 0.6121733333333335,\n",
       "  'std': 0.07777978143450906,\n",
       "  'min': 0.316,\n",
       "  'max': 0.6973333333333334},\n",
       " {'gen': 2,\n",
       "  'nevals': 72,\n",
       "  'avg': 0.66212,\n",
       "  'std': 0.07143807761504599,\n",
       "  'min': 0.36533333333333334,\n",
       "  'max': 0.6986666666666667},\n",
       " {'gen': 3,\n",
       "  'nevals': 50,\n",
       "  'avg': 0.6750266666666666,\n",
       "  'std': 0.07231138960541877,\n",
       "  'min': 0.316,\n",
       "  'max': 0.7133333333333334},\n",
       " {'gen': 4,\n",
       "  'nevals': 64,\n",
       "  'avg': 0.6974133333333333,\n",
       "  'std': 0.015504344910737475,\n",
       "  'min': 0.5693333333333334,\n",
       "  'max': 0.716},\n",
       " {'gen': 5,\n",
       "  'nevals': 67,\n",
       "  'avg': 0.6903466666666668,\n",
       "  'std': 0.06190117428432015,\n",
       "  'min': 0.376,\n",
       "  'max': 0.716},\n",
       " {'gen': 6,\n",
       "  'nevals': 51,\n",
       "  'avg': 0.7127199999999999,\n",
       "  'std': 0.004954620738933173,\n",
       "  'min': 0.6866666666666666,\n",
       "  'max': 0.716},\n",
       " {'gen': 7,\n",
       "  'nevals': 62,\n",
       "  'avg': 0.7078,\n",
       "  'std': 0.042457560509813135,\n",
       "  'min': 0.3413333333333333,\n",
       "  'max': 0.7186666666666667},\n",
       " {'gen': 8,\n",
       "  'nevals': 57,\n",
       "  'avg': 0.7108933333333333,\n",
       "  'std': 0.0269801935583206,\n",
       "  'min': 0.4746666666666667,\n",
       "  'max': 0.7213333333333334},\n",
       " {'gen': 9,\n",
       "  'nevals': 62,\n",
       "  'avg': 0.7118666666666665,\n",
       "  'std': 0.029348178061943734,\n",
       "  'min': 0.492,\n",
       "  'max': 0.7226666666666667},\n",
       " {'gen': 10,\n",
       "  'nevals': 55,\n",
       "  'avg': 0.7163733333333334,\n",
       "  'std': 0.008810256649055256,\n",
       "  'min': 0.6746666666666666,\n",
       "  'max': 0.7226666666666667},\n",
       " {'gen': 11,\n",
       "  'nevals': 59,\n",
       "  'avg': 0.7054666666666667,\n",
       "  'std': 0.05340378679873221,\n",
       "  'min': 0.33466666666666667,\n",
       "  'max': 0.724},\n",
       " {'gen': 12,\n",
       "  'nevals': 65,\n",
       "  'avg': 0.7148933333333335,\n",
       "  'std': 0.024696598056322565,\n",
       "  'min': 0.5066666666666667,\n",
       "  'max': 0.7266666666666667},\n",
       " {'gen': 13,\n",
       "  'nevals': 55,\n",
       "  'avg': 0.7176533333333336,\n",
       "  'std': 0.018324599131586298,\n",
       "  'min': 0.5733333333333334,\n",
       "  'max': 0.7266666666666667},\n",
       " {'gen': 14,\n",
       "  'nevals': 53,\n",
       "  'avg': 0.7149333333333335,\n",
       "  'std': 0.0459197367394699,\n",
       "  'min': 0.308,\n",
       "  'max': 0.728},\n",
       " {'gen': 15,\n",
       "  'nevals': 55,\n",
       "  'avg': 0.7236666666666669,\n",
       "  'std': 0.00792043769834303,\n",
       "  'min': 0.6733333333333333,\n",
       "  'max': 0.7293333333333333},\n",
       " {'gen': 16,\n",
       "  'nevals': 63,\n",
       "  'avg': 0.7175866666666668,\n",
       "  'std': 0.036363446847991,\n",
       "  'min': 0.43733333333333335,\n",
       "  'max': 0.7306666666666667},\n",
       " {'gen': 17,\n",
       "  'nevals': 69,\n",
       "  'avg': 0.72052,\n",
       "  'std': 0.036992200979846186,\n",
       "  'min': 0.364,\n",
       "  'max': 0.7306666666666667},\n",
       " {'gen': 18,\n",
       "  'nevals': 57,\n",
       "  'avg': 0.7147599999999998,\n",
       "  'std': 0.052485004842653234,\n",
       "  'min': 0.3426666666666667,\n",
       "  'max': 0.7306666666666667},\n",
       " {'gen': 19,\n",
       "  'nevals': 68,\n",
       "  'avg': 0.7235066666666665,\n",
       "  'std': 0.028485726640235493,\n",
       "  'min': 0.4706666666666667,\n",
       "  'max': 0.732},\n",
       " {'gen': 20,\n",
       "  'nevals': 57,\n",
       "  'avg': 0.7198933333333334,\n",
       "  'std': 0.046636820932249086,\n",
       "  'min': 0.3506666666666667,\n",
       "  'max': 0.732},\n",
       " {'gen': 21,\n",
       "  'nevals': 62,\n",
       "  'avg': 0.7172533333333334,\n",
       "  'std': 0.04718260319698823,\n",
       "  'min': 0.332,\n",
       "  'max': 0.732},\n",
       " {'gen': 22,\n",
       "  'nevals': 55,\n",
       "  'avg': 0.7274666666666667,\n",
       "  'std': 0.015088479784995647,\n",
       "  'min': 0.596,\n",
       "  'max': 0.732},\n",
       " {'gen': 23,\n",
       "  'nevals': 54,\n",
       "  'avg': 0.7256666666666668,\n",
       "  'std': 0.021357798471648603,\n",
       "  'min': 0.5666666666666667,\n",
       "  'max': 0.732},\n",
       " {'gen': 24,\n",
       "  'nevals': 65,\n",
       "  'avg': 0.7210266666666666,\n",
       "  'std': 0.031166851336351283,\n",
       "  'min': 0.56,\n",
       "  'max': 0.732},\n",
       " {'gen': 25,\n",
       "  'nevals': 65,\n",
       "  'avg': 0.72604,\n",
       "  'std': 0.016792013974902868,\n",
       "  'min': 0.5893333333333334,\n",
       "  'max': 0.732},\n",
       " {'gen': 26,\n",
       "  'nevals': 64,\n",
       "  'avg': 0.7200933333333333,\n",
       "  'std': 0.0463364526527921,\n",
       "  'min': 0.37733333333333335,\n",
       "  'max': 0.732},\n",
       " {'gen': 27,\n",
       "  'nevals': 61,\n",
       "  'avg': 0.7187066666666665,\n",
       "  'std': 0.03720189003561811,\n",
       "  'min': 0.488,\n",
       "  'max': 0.732},\n",
       " {'gen': 28,\n",
       "  'nevals': 62,\n",
       "  'avg': 0.7202133333333333,\n",
       "  'std': 0.03543242457285573,\n",
       "  'min': 0.5413333333333333,\n",
       "  'max': 0.7333333333333333},\n",
       " {'gen': 29,\n",
       "  'nevals': 67,\n",
       "  'avg': 0.7249866666666667,\n",
       "  'std': 0.04068813422444762,\n",
       "  'min': 0.3253333333333333,\n",
       "  'max': 0.7333333333333333},\n",
       " {'gen': 30,\n",
       "  'nevals': 59,\n",
       "  'avg': 0.7283866666666667,\n",
       "  'std': 0.012753101583536446,\n",
       "  'min': 0.6546666666666666,\n",
       "  'max': 0.7333333333333333},\n",
       " {'gen': 31,\n",
       "  'nevals': 64,\n",
       "  'avg': 0.7202133333333333,\n",
       "  'std': 0.04908395347655778,\n",
       "  'min': 0.32266666666666666,\n",
       "  'max': 0.7346666666666667},\n",
       " {'gen': 32,\n",
       "  'nevals': 60,\n",
       "  'avg': 0.7231866666666665,\n",
       "  'std': 0.04145268574598702,\n",
       "  'min': 0.3426666666666667,\n",
       "  'max': 0.7346666666666667},\n",
       " {'gen': 33,\n",
       "  'nevals': 54,\n",
       "  'avg': 0.72536,\n",
       "  'std': 0.032550804052195764,\n",
       "  'min': 0.49066666666666664,\n",
       "  'max': 0.7373333333333333},\n",
       " {'gen': 34,\n",
       "  'nevals': 56,\n",
       "  'avg': 0.7302666666666666,\n",
       "  'std': 0.009182592226599196,\n",
       "  'min': 0.6826666666666666,\n",
       "  'max': 0.736},\n",
       " {'gen': 35,\n",
       "  'nevals': 53,\n",
       "  'avg': 0.7210666666666669,\n",
       "  'std': 0.04995322256315847,\n",
       "  'min': 0.3333333333333333,\n",
       "  'max': 0.736},\n",
       " {'gen': 36,\n",
       "  'nevals': 61,\n",
       "  'avg': 0.7276266666666669,\n",
       "  'std': 0.03354709061735294,\n",
       "  'min': 0.43866666666666665,\n",
       "  'max': 0.736},\n",
       " {'gen': 37,\n",
       "  'nevals': 60,\n",
       "  'avg': 0.7271200000000003,\n",
       "  'std': 0.0243699049375796,\n",
       "  'min': 0.5906666666666667,\n",
       "  'max': 0.736},\n",
       " {'gen': 38,\n",
       "  'nevals': 66,\n",
       "  'avg': 0.72848,\n",
       "  'std': 0.025711922007763885,\n",
       "  'min': 0.56,\n",
       "  'max': 0.736},\n",
       " {'gen': 39,\n",
       "  'nevals': 58,\n",
       "  'avg': 0.7283733333333334,\n",
       "  'std': 0.025026975668488407,\n",
       "  'min': 0.512,\n",
       "  'max': 0.736},\n",
       " {'gen': 40,\n",
       "  'nevals': 56,\n",
       "  'avg': 0.7293466666666667,\n",
       "  'std': 0.02271484683344061,\n",
       "  'min': 0.5373333333333333,\n",
       "  'max': 0.736},\n",
       " {'gen': 41,\n",
       "  'nevals': 71,\n",
       "  'avg': 0.7302666666666667,\n",
       "  'std': 0.012265942007580723,\n",
       "  'min': 0.6693333333333333,\n",
       "  'max': 0.736},\n",
       " {'gen': 42,\n",
       "  'nevals': 62,\n",
       "  'avg': 0.7272000000000002,\n",
       "  'std': 0.022179069212009576,\n",
       "  'min': 0.5626666666666666,\n",
       "  'max': 0.7373333333333333},\n",
       " {'gen': 43,\n",
       "  'nevals': 57,\n",
       "  'avg': 0.7322,\n",
       "  'std': 0.012007960322682242,\n",
       "  'min': 0.656,\n",
       "  'max': 0.7373333333333333},\n",
       " {'gen': 44,\n",
       "  'nevals': 57,\n",
       "  'avg': 0.7251733333333332,\n",
       "  'std': 0.03812880159552763,\n",
       "  'min': 0.42133333333333334,\n",
       "  'max': 0.7373333333333333},\n",
       " {'gen': 45,\n",
       "  'nevals': 73,\n",
       "  'avg': 0.7268933333333335,\n",
       "  'std': 0.039890541346149826,\n",
       "  'min': 0.356,\n",
       "  'max': 0.7373333333333333},\n",
       " {'gen': 46,\n",
       "  'nevals': 62,\n",
       "  'avg': 0.7336266666666666,\n",
       "  'std': 0.008877597272535688,\n",
       "  'min': 0.6813333333333333,\n",
       "  'max': 0.7373333333333333},\n",
       " {'gen': 47,\n",
       "  'nevals': 60,\n",
       "  'avg': 0.7330666666666665,\n",
       "  'std': 0.009681138592358038,\n",
       "  'min': 0.6933333333333334,\n",
       "  'max': 0.7386666666666667},\n",
       " {'gen': 48,\n",
       "  'nevals': 63,\n",
       "  'avg': 0.7340800000000001,\n",
       "  'std': 0.011387821955443841,\n",
       "  'min': 0.6333333333333333,\n",
       "  'max': 0.7386666666666667},\n",
       " {'gen': 49,\n",
       "  'nevals': 64,\n",
       "  'avg': 0.7317866666666667,\n",
       "  'std': 0.015220711036099604,\n",
       "  'min': 0.652,\n",
       "  'max': 0.7386666666666667},\n",
       " {'gen': 50,\n",
       "  'nevals': 54,\n",
       "  'avg': 0.7314533333333333,\n",
       "  'std': 0.024404076162258915,\n",
       "  'min': 0.5213333333333333,\n",
       "  'max': 0.7386666666666667}]"
      ]
     },
     "execution_count": 253,
     "metadata": {},
     "output_type": "execute_result"
    }
   ],
   "source": [
    "log"
   ]
  },
  {
   "cell_type": "code",
   "execution_count": 254,
   "metadata": {},
   "outputs": [
    {
     "data": {
      "text/plain": [
       "{'gen': 50,\n",
       " 'nevals': 54,\n",
       " 'avg': 0.7314533333333333,\n",
       " 'std': 0.024404076162258915,\n",
       " 'min': 0.5213333333333333,\n",
       " 'max': 0.7386666666666667}"
      ]
     },
     "execution_count": 254,
     "metadata": {},
     "output_type": "execute_result"
    }
   ],
   "source": [
    "log[-1]"
   ]
  },
  {
   "cell_type": "code",
   "execution_count": 259,
   "metadata": {},
   "outputs": [],
   "source": [
    "func = gp.compile(hof[0], pset)"
   ]
  },
  {
   "cell_type": "code",
   "execution_count": 261,
   "metadata": {},
   "outputs": [
    {
     "data": {
      "text/plain": [
       "(0.7386666666666667,)"
      ]
     },
     "execution_count": 261,
     "metadata": {},
     "output_type": "execute_result"
    }
   ],
   "source": [
    "toolbox.evaluate(hof[0])"
   ]
  },
  {
   "cell_type": "code",
   "execution_count": 276,
   "metadata": {},
   "outputs": [],
   "source": [
    "y_pred = [func(*data) for _, data in X_train.iterrows()]"
   ]
  },
  {
   "cell_type": "code",
   "execution_count": 268,
   "metadata": {},
   "outputs": [],
   "source": [
    "y_labels = y_train.unique()"
   ]
  },
  {
   "cell_type": "code",
   "execution_count": 278,
   "metadata": {},
   "outputs": [
    {
     "data": {
      "text/plain": [
       "array([1, 2])"
      ]
     },
     "execution_count": 278,
     "metadata": {},
     "output_type": "execute_result"
    }
   ],
   "source": [
    "y_labels"
   ]
  },
  {
   "cell_type": "code",
   "execution_count": 286,
   "metadata": {},
   "outputs": [],
   "source": [
    "y_pred = list(map(lambda x: y_labels[0] if x > 0 else y_labels[1], y_pred))"
   ]
  },
  {
   "cell_type": "code",
   "execution_count": 285,
   "metadata": {},
   "outputs": [
    {
     "data": {
      "text/plain": [
       "669"
      ]
     },
     "execution_count": 285,
     "metadata": {},
     "output_type": "execute_result"
    }
   ],
   "source": [
    "len([x for x in y_pred if x >= 0])"
   ]
  },
  {
   "cell_type": "code",
   "execution_count": 284,
   "metadata": {},
   "outputs": [
    {
     "data": {
      "text/plain": [
       "81"
      ]
     },
     "execution_count": 284,
     "metadata": {},
     "output_type": "execute_result"
    }
   ],
   "source": [
    "len([x for x in y_pred if x < 0])"
   ]
  },
  {
   "cell_type": "code",
   "execution_count": 287,
   "metadata": {},
   "outputs": [
    {
     "data": {
      "text/plain": [
       "array([1, 2])"
      ]
     },
     "execution_count": 287,
     "metadata": {},
     "output_type": "execute_result"
    }
   ],
   "source": [
    "np.unique(y_pred)"
   ]
  },
  {
   "cell_type": "code",
   "execution_count": 289,
   "metadata": {},
   "outputs": [
    {
     "name": "stdout",
     "output_type": "stream",
     "text": [
      "              precision    recall  f1-score   support\n",
      "\n",
      "           1       0.74      0.96      0.83       513\n",
      "           2       0.75      0.26      0.38       237\n",
      "\n",
      "    accuracy                           0.74       750\n",
      "   macro avg       0.75      0.61      0.61       750\n",
      "weighted avg       0.74      0.74      0.69       750\n",
      "\n"
     ]
    }
   ],
   "source": [
    "print(classification_report(y_true=y_train, y_pred=y_pred))"
   ]
  },
  {
   "cell_type": "code",
   "execution_count": null,
   "metadata": {},
   "outputs": [],
   "source": []
  }
 ],
 "metadata": {
  "kernelspec": {
   "display_name": "autoGA",
   "language": "python",
   "name": "python3"
  },
  "language_info": {
   "codemirror_mode": {
    "name": "ipython",
    "version": 3
   },
   "file_extension": ".py",
   "mimetype": "text/x-python",
   "name": "python",
   "nbconvert_exporter": "python",
   "pygments_lexer": "ipython3",
   "version": "3.12.0"
  }
 },
 "nbformat": 4,
 "nbformat_minor": 2
}

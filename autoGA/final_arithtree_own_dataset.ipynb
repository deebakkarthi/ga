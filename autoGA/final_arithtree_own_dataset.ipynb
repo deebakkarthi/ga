{
 "cells": [
  {
   "cell_type": "code",
   "execution_count": 1,
   "metadata": {},
   "outputs": [],
   "source": [
    "import operator\n",
    "import random\n",
    "from deap import base\n",
    "from deap import creator\n",
    "from deap import tools\n",
    "from deap import algorithms\n",
    "from deap import gp\n",
    "from sklearn.model_selection import train_test_split\n",
    "from sklearn.metrics import accuracy_score, f1_score, recall_score, classification_report\n",
    "import numpy as np\n",
    "import pandas as pd\n",
    "from functools import partial\n",
    "import seaborn as sns\n",
    "from sklearn.preprocessing import LabelEncoder"
   ]
  },
  {
   "cell_type": "code",
   "execution_count": 2,
   "metadata": {},
   "outputs": [],
   "source": [
    "df = pd.read_csv(\"./merged.csv\")"
   ]
  },
  {
   "cell_type": "code",
   "execution_count": 3,
   "metadata": {},
   "outputs": [
    {
     "data": {
      "text/html": [
       "<div>\n",
       "<style scoped>\n",
       "    .dataframe tbody tr th:only-of-type {\n",
       "        vertical-align: middle;\n",
       "    }\n",
       "\n",
       "    .dataframe tbody tr th {\n",
       "        vertical-align: top;\n",
       "    }\n",
       "\n",
       "    .dataframe thead th {\n",
       "        text-align: right;\n",
       "    }\n",
       "</style>\n",
       "<table border=\"1\" class=\"dataframe\">\n",
       "  <thead>\n",
       "    <tr style=\"text-align: right;\">\n",
       "      <th></th>\n",
       "      <th>creates_hidden_file</th>\n",
       "      <th>Ransomware appends_extension</th>\n",
       "      <th>antivm_queries_computername</th>\n",
       "      <th>network service communication</th>\n",
       "      <th>create service</th>\n",
       "      <th>Generate Crypto Key</th>\n",
       "      <th>Create_exe</th>\n",
       "      <th>Network tor</th>\n",
       "      <th>antivm_memory_available</th>\n",
       "      <th>Peid Packer</th>\n",
       "      <th>...</th>\n",
       "      <th>call_count</th>\n",
       "      <th>compare_count</th>\n",
       "      <th>avg_betweenness_centrality</th>\n",
       "      <th>avg_closeness_centrality</th>\n",
       "      <th>avg_degree_centrality</th>\n",
       "      <th>avg_eigenvector_centrality</th>\n",
       "      <th>avg_pagerank</th>\n",
       "      <th>avg_katz_centrality</th>\n",
       "      <th>avg_clustering_coefficient</th>\n",
       "      <th>label</th>\n",
       "    </tr>\n",
       "  </thead>\n",
       "  <tbody>\n",
       "    <tr>\n",
       "      <th>0</th>\n",
       "      <td>0</td>\n",
       "      <td>0</td>\n",
       "      <td>0</td>\n",
       "      <td>1</td>\n",
       "      <td>0</td>\n",
       "      <td>0</td>\n",
       "      <td>1</td>\n",
       "      <td>1</td>\n",
       "      <td>0</td>\n",
       "      <td>1</td>\n",
       "      <td>...</td>\n",
       "      <td>12</td>\n",
       "      <td>5</td>\n",
       "      <td>0.086746</td>\n",
       "      <td>0.380842</td>\n",
       "      <td>0.669048</td>\n",
       "      <td>0.262290</td>\n",
       "      <td>0.234127</td>\n",
       "      <td>0.470593</td>\n",
       "      <td>0.326111</td>\n",
       "      <td>1</td>\n",
       "    </tr>\n",
       "    <tr>\n",
       "      <th>1</th>\n",
       "      <td>0</td>\n",
       "      <td>0</td>\n",
       "      <td>0</td>\n",
       "      <td>1</td>\n",
       "      <td>0</td>\n",
       "      <td>0</td>\n",
       "      <td>1</td>\n",
       "      <td>1</td>\n",
       "      <td>0</td>\n",
       "      <td>1</td>\n",
       "      <td>...</td>\n",
       "      <td>12</td>\n",
       "      <td>5</td>\n",
       "      <td>0.086746</td>\n",
       "      <td>0.380842</td>\n",
       "      <td>0.669048</td>\n",
       "      <td>0.262290</td>\n",
       "      <td>0.234127</td>\n",
       "      <td>0.470593</td>\n",
       "      <td>0.326111</td>\n",
       "      <td>1</td>\n",
       "    </tr>\n",
       "    <tr>\n",
       "      <th>2</th>\n",
       "      <td>0</td>\n",
       "      <td>0</td>\n",
       "      <td>0</td>\n",
       "      <td>0</td>\n",
       "      <td>0</td>\n",
       "      <td>0</td>\n",
       "      <td>0</td>\n",
       "      <td>0</td>\n",
       "      <td>0</td>\n",
       "      <td>1</td>\n",
       "      <td>...</td>\n",
       "      <td>73</td>\n",
       "      <td>29</td>\n",
       "      <td>0.055437</td>\n",
       "      <td>0.259993</td>\n",
       "      <td>0.470586</td>\n",
       "      <td>0.258009</td>\n",
       "      <td>0.228742</td>\n",
       "      <td>0.443314</td>\n",
       "      <td>0.074205</td>\n",
       "      <td>1</td>\n",
       "    </tr>\n",
       "    <tr>\n",
       "      <th>3</th>\n",
       "      <td>0</td>\n",
       "      <td>0</td>\n",
       "      <td>0</td>\n",
       "      <td>0</td>\n",
       "      <td>0</td>\n",
       "      <td>0</td>\n",
       "      <td>1</td>\n",
       "      <td>0</td>\n",
       "      <td>0</td>\n",
       "      <td>1</td>\n",
       "      <td>...</td>\n",
       "      <td>60</td>\n",
       "      <td>19</td>\n",
       "      <td>0.057316</td>\n",
       "      <td>0.206434</td>\n",
       "      <td>0.330150</td>\n",
       "      <td>0.183187</td>\n",
       "      <td>0.149553</td>\n",
       "      <td>0.356481</td>\n",
       "      <td>0.084686</td>\n",
       "      <td>1</td>\n",
       "    </tr>\n",
       "    <tr>\n",
       "      <th>4</th>\n",
       "      <td>0</td>\n",
       "      <td>0</td>\n",
       "      <td>1</td>\n",
       "      <td>0</td>\n",
       "      <td>0</td>\n",
       "      <td>0</td>\n",
       "      <td>0</td>\n",
       "      <td>0</td>\n",
       "      <td>0</td>\n",
       "      <td>1</td>\n",
       "      <td>...</td>\n",
       "      <td>283</td>\n",
       "      <td>138</td>\n",
       "      <td>0.070114</td>\n",
       "      <td>0.216372</td>\n",
       "      <td>0.304646</td>\n",
       "      <td>0.164184</td>\n",
       "      <td>0.125465</td>\n",
       "      <td>0.325517</td>\n",
       "      <td>0.145345</td>\n",
       "      <td>1</td>\n",
       "    </tr>\n",
       "  </tbody>\n",
       "</table>\n",
       "<p>5 rows × 24 columns</p>\n",
       "</div>"
      ],
      "text/plain": [
       "   creates_hidden_file  Ransomware appends_extension  \\\n",
       "0                    0                             0   \n",
       "1                    0                             0   \n",
       "2                    0                             0   \n",
       "3                    0                             0   \n",
       "4                    0                             0   \n",
       "\n",
       "   antivm_queries_computername  network service communication  create service  \\\n",
       "0                            0                              1               0   \n",
       "1                            0                              1               0   \n",
       "2                            0                              0               0   \n",
       "3                            0                              0               0   \n",
       "4                            1                              0               0   \n",
       "\n",
       "   Generate Crypto Key  Create_exe  Network tor  antivm_memory_available  \\\n",
       "0                    0           1            1                        0   \n",
       "1                    0           1            1                        0   \n",
       "2                    0           0            0                        0   \n",
       "3                    0           1            0                        0   \n",
       "4                    0           0            0                        0   \n",
       "\n",
       "   Peid Packer  ...  call_count  compare_count  avg_betweenness_centrality  \\\n",
       "0            1  ...          12              5                    0.086746   \n",
       "1            1  ...          12              5                    0.086746   \n",
       "2            1  ...          73             29                    0.055437   \n",
       "3            1  ...          60             19                    0.057316   \n",
       "4            1  ...         283            138                    0.070114   \n",
       "\n",
       "   avg_closeness_centrality  avg_degree_centrality  \\\n",
       "0                  0.380842               0.669048   \n",
       "1                  0.380842               0.669048   \n",
       "2                  0.259993               0.470586   \n",
       "3                  0.206434               0.330150   \n",
       "4                  0.216372               0.304646   \n",
       "\n",
       "   avg_eigenvector_centrality  avg_pagerank  avg_katz_centrality  \\\n",
       "0                    0.262290      0.234127             0.470593   \n",
       "1                    0.262290      0.234127             0.470593   \n",
       "2                    0.258009      0.228742             0.443314   \n",
       "3                    0.183187      0.149553             0.356481   \n",
       "4                    0.164184      0.125465             0.325517   \n",
       "\n",
       "   avg_clustering_coefficient  label  \n",
       "0                    0.326111      1  \n",
       "1                    0.326111      1  \n",
       "2                    0.074205      1  \n",
       "3                    0.084686      1  \n",
       "4                    0.145345      1  \n",
       "\n",
       "[5 rows x 24 columns]"
      ]
     },
     "execution_count": 3,
     "metadata": {},
     "output_type": "execute_result"
    }
   ],
   "source": [
    "df.head()"
   ]
  },
  {
   "cell_type": "code",
   "execution_count": 4,
   "metadata": {},
   "outputs": [],
   "source": [
    "X = df.iloc[:, :-1]"
   ]
  },
  {
   "cell_type": "code",
   "execution_count": 5,
   "metadata": {},
   "outputs": [
    {
     "name": "stdout",
     "output_type": "stream",
     "text": [
      "<class 'pandas.core.frame.DataFrame'>\n",
      "RangeIndex: 1194 entries, 0 to 1193\n",
      "Data columns (total 23 columns):\n",
      " #   Column                         Non-Null Count  Dtype  \n",
      "---  ------                         --------------  -----  \n",
      " 0   creates_hidden_file            1194 non-null   int64  \n",
      " 1   Ransomware appends_extension   1194 non-null   int64  \n",
      " 2   antivm_queries_computername    1194 non-null   int64  \n",
      " 3   network service communication  1194 non-null   int64  \n",
      " 4   create service                 1194 non-null   int64  \n",
      " 5   Generate Crypto Key            1194 non-null   int64  \n",
      " 6   Create_exe                     1194 non-null   int64  \n",
      " 7   Network tor                    1194 non-null   int64  \n",
      " 8   antivm_memory_available        1194 non-null   int64  \n",
      " 9   Peid Packer                    1194 non-null   int64  \n",
      " 10  Persistance autorun            1194 non-null   int64  \n",
      " 11  mov_count                      1194 non-null   int64  \n",
      " 12  transfer_count                 1194 non-null   int64  \n",
      " 13  arithmetic_count               1194 non-null   int64  \n",
      " 14  call_count                     1194 non-null   int64  \n",
      " 15  compare_count                  1194 non-null   int64  \n",
      " 16  avg_betweenness_centrality     1194 non-null   float64\n",
      " 17  avg_closeness_centrality       1194 non-null   float64\n",
      " 18  avg_degree_centrality          1194 non-null   float64\n",
      " 19  avg_eigenvector_centrality     1194 non-null   float64\n",
      " 20  avg_pagerank                   1194 non-null   float64\n",
      " 21  avg_katz_centrality            1194 non-null   float64\n",
      " 22  avg_clustering_coefficient     1194 non-null   float64\n",
      "dtypes: float64(7), int64(16)\n",
      "memory usage: 214.7 KB\n"
     ]
    }
   ],
   "source": [
    "X.info()"
   ]
  },
  {
   "cell_type": "code",
   "execution_count": 6,
   "metadata": {},
   "outputs": [],
   "source": [
    "y = df.iloc[:, -1]"
   ]
  },
  {
   "cell_type": "code",
   "execution_count": 7,
   "metadata": {},
   "outputs": [
    {
     "data": {
      "text/plain": [
       "array([0, 1])"
      ]
     },
     "execution_count": 7,
     "metadata": {},
     "output_type": "execute_result"
    }
   ],
   "source": [
    "np.unique(y)"
   ]
  },
  {
   "cell_type": "code",
   "execution_count": 8,
   "metadata": {},
   "outputs": [],
   "source": [
    "X_train, X_test, y_train, y_test = train_test_split(X, y)"
   ]
  },
  {
   "cell_type": "code",
   "execution_count": 9,
   "metadata": {},
   "outputs": [
    {
     "name": "stdout",
     "output_type": "stream",
     "text": [
      "(895, 23) (299, 23)\n"
     ]
    }
   ],
   "source": [
    "print(X_train.shape, X_test.shape)"
   ]
  },
  {
   "cell_type": "code",
   "execution_count": 10,
   "metadata": {},
   "outputs": [
    {
     "name": "stdout",
     "output_type": "stream",
     "text": [
      "(895,) (299,)\n"
     ]
    }
   ],
   "source": [
    "print(y_train.shape, y_test.shape)"
   ]
  },
  {
   "cell_type": "code",
   "execution_count": 11,
   "metadata": {},
   "outputs": [],
   "source": [
    "def eaSimple(\n",
    "    population,\n",
    "    toolbox,\n",
    "    cxpb,\n",
    "    mutpb,\n",
    "    ngen,\n",
    "    stats=None,\n",
    "    halloffame=None,\n",
    "    verbose=__debug__,\n",
    "    use_varAnd=True,\n",
    "):\n",
    "    logbook = tools.Logbook()\n",
    "    logbook.header = [\"gen\", \"nevals\"] + (stats.fields if stats else [])\n",
    "\n",
    "    # Evaluate the individuals with an invalid fitness\n",
    "    invalid_ind = [ind for ind in population if not ind.fitness.valid]\n",
    "    fitnesses = toolbox.map(toolbox.evaluate, invalid_ind)\n",
    "    for ind, fit in zip(invalid_ind, fitnesses):\n",
    "        ind.fitness.values = fit\n",
    "\n",
    "    if halloffame is not None:\n",
    "        halloffame.update(population)\n",
    "\n",
    "    record = stats.compile(population) if stats else {}\n",
    "    logbook.record(gen=0, nevals=len(invalid_ind), **record)\n",
    "    if verbose:\n",
    "        print(logbook.stream)\n",
    "\n",
    "    # Begin the generational process\n",
    "    for gen in range(1, ngen + 1):\n",
    "        # Select the next generation individuals\n",
    "        offspring = toolbox.select(population, len(population))\n",
    "\n",
    "        # Vary the pool of individuals\n",
    "        if use_varAnd:\n",
    "            offspring = algorithms.varAnd(offspring, toolbox, cxpb, mutpb)\n",
    "        else:\n",
    "            offspring = algorithms.varOr(\n",
    "                offspring, toolbox, len(offspring), cxpb, mutpb\n",
    "            )\n",
    "\n",
    "        # Evaluate the individuals with an invalid fitness\n",
    "        invalid_ind = [ind for ind in offspring if not ind.fitness.valid]\n",
    "        fitnesses = toolbox.map(toolbox.evaluate, invalid_ind)\n",
    "        for ind, fit in zip(invalid_ind, fitnesses):\n",
    "            ind.fitness.values = fit\n",
    "\n",
    "        # Update the hall of fame with the generated individuals\n",
    "        if halloffame is not None:\n",
    "            halloffame.update(offspring)\n",
    "\n",
    "        # Replace the current population by the offspring\n",
    "        population[:] = offspring\n",
    "\n",
    "        # Append the current generation statistics to the logbook\n",
    "        record = stats.compile(population) if stats else {}\n",
    "        logbook.record(gen=gen, nevals=len(invalid_ind), **record)\n",
    "        if verbose:\n",
    "            print(logbook.stream)\n",
    "\n",
    "    return population, logbook"
   ]
  },
  {
   "cell_type": "code",
   "execution_count": 12,
   "metadata": {},
   "outputs": [],
   "source": [
    "def evaluate(individual, toolbox):\n",
    "    func = toolbox.compile(expr=individual)\n",
    "    y_pred = [func(*data) for _, data in X_train.iterrows()]\n",
    "    y_labels = np.unique(y)\n",
    "    y_pred = list(map(lambda x: y_labels[0] if x > 0 else y_labels[1], y_pred))\n",
    "    tmp = random.random()\n",
    "    ret =  tmp * accuracy_score(y_train, y_pred) + (1 - tmp) * f1_score(\n",
    "        y_train, y_pred\n",
    "    )\n",
    "    return ret,"
   ]
  },
  {
   "cell_type": "code",
   "execution_count": 13,
   "metadata": {},
   "outputs": [],
   "source": [
    "# Use iloc instead of directly indexing like X[col][0] as the indices will shuffled during train_test_split\n",
    "pset = gp.PrimitiveSetTyped(\"main\", [type(X_train[col].iloc[0]) for col in X_train], np.float64, \"IN\")"
   ]
  },
  {
   "cell_type": "code",
   "execution_count": 14,
   "metadata": {},
   "outputs": [],
   "source": [
    "def protected_div(left, right):\n",
    "    if right != 0:\n",
    "        return np.float64(left / right)\n",
    "    else:\n",
    "        return np.float64(1)\n",
    "pset.addPrimitive(operator.add, [np.float64, np.float64], np.float64)\n",
    "pset.addPrimitive(operator.sub, [np.float64, np.float64], np.float64)\n",
    "pset.addPrimitive(operator.mul, [np.float64, np.float64], np.float64)\n",
    "pset.addPrimitive(protected_div, [np.float64, np.float64], np.float64)\n",
    "# Add this constant to prevent no primitive found error\n",
    "# This occurs because there may be an odd number of inputs and all the functions are binary\n",
    "pset.addEphemeralConstant(name=\"RAND\", ephemeral=partial(np.float64, random.random()), ret_type=np.float64)"
   ]
  },
  {
   "cell_type": "code",
   "execution_count": 15,
   "metadata": {},
   "outputs": [],
   "source": [
    "creator.create(\"FitnessMax\", base.Fitness, weights=(1.0,))"
   ]
  },
  {
   "cell_type": "code",
   "execution_count": 16,
   "metadata": {},
   "outputs": [],
   "source": [
    "creator.create(\"Individual\", gp.PrimitiveTree, fitness=creator.FitnessMax)"
   ]
  },
  {
   "cell_type": "code",
   "execution_count": 17,
   "metadata": {},
   "outputs": [],
   "source": [
    "toolbox = base.Toolbox()"
   ]
  },
  {
   "cell_type": "code",
   "execution_count": 18,
   "metadata": {},
   "outputs": [],
   "source": [
    "toolbox.register(\"expr\", gp.genFull, pset=pset, min_=2, max_=7)"
   ]
  },
  {
   "cell_type": "code",
   "execution_count": 19,
   "metadata": {},
   "outputs": [],
   "source": [
    "toolbox.register(\"individual\", tools.initIterate, creator.Individual, toolbox.expr)"
   ]
  },
  {
   "cell_type": "code",
   "execution_count": 20,
   "metadata": {},
   "outputs": [],
   "source": [
    "toolbox.register(\"population\", tools.initRepeat, list, toolbox.individual)"
   ]
  },
  {
   "cell_type": "code",
   "execution_count": 21,
   "metadata": {},
   "outputs": [],
   "source": [
    "toolbox.register(\"compile\", gp.compile, pset=pset)"
   ]
  },
  {
   "cell_type": "code",
   "execution_count": 22,
   "metadata": {},
   "outputs": [],
   "source": [
    "toolbox.register(\n",
    "    \"evaluate\",\n",
    "    evaluate,\n",
    "    toolbox=toolbox,\n",
    ")"
   ]
  },
  {
   "cell_type": "code",
   "execution_count": 23,
   "metadata": {},
   "outputs": [],
   "source": [
    "toolbox.register(\"select\", tools.selTournament, tournsize=6)"
   ]
  },
  {
   "cell_type": "code",
   "execution_count": 24,
   "metadata": {},
   "outputs": [],
   "source": [
    "toolbox.register(\"mate\", gp.cxOnePoint)"
   ]
  },
  {
   "cell_type": "code",
   "execution_count": 25,
   "metadata": {},
   "outputs": [],
   "source": [
    "toolbox.register(\"expr_mut\", gp.genFull, min_=2, max_=6)"
   ]
  },
  {
   "cell_type": "code",
   "execution_count": 26,
   "metadata": {},
   "outputs": [],
   "source": [
    "toolbox.register(\"mutate\", gp.mutShrink)\n",
    "# toolbox.register(\"mutate\", gp.mutUniform, expr=toolbox.expr_mut, pset=pset)"
   ]
  },
  {
   "cell_type": "code",
   "execution_count": 27,
   "metadata": {},
   "outputs": [],
   "source": [
    "use_varAnd = True\n",
    "cxpb = 0\n",
    "mutpb = 1"
   ]
  },
  {
   "cell_type": "code",
   "execution_count": 28,
   "metadata": {},
   "outputs": [],
   "source": [
    "pop = toolbox.population(100)"
   ]
  },
  {
   "cell_type": "code",
   "execution_count": 29,
   "metadata": {},
   "outputs": [],
   "source": [
    "hof = tools.HallOfFame(1)"
   ]
  },
  {
   "cell_type": "code",
   "execution_count": 30,
   "metadata": {},
   "outputs": [],
   "source": [
    "stats = tools.Statistics(lambda ind: ind.fitness.values)"
   ]
  },
  {
   "cell_type": "code",
   "execution_count": 31,
   "metadata": {},
   "outputs": [],
   "source": [
    "stats.register(\"avg\", np.mean)\n",
    "stats.register(\"std\", np.std)\n",
    "stats.register(\"min\", np.min)\n",
    "stats.register(\"max\", np.max)"
   ]
  },
  {
   "cell_type": "code",
   "execution_count": 32,
   "metadata": {},
   "outputs": [
    {
     "name": "stdout",
     "output_type": "stream",
     "text": [
      "gen\tnevals\tavg     \tstd    \tmin      \tmax     \n",
      "0  \t100   \t0.366032\t0.17467\t0.0114306\t0.811136\n",
      "1  \t100   \t0.39209 \t0.186337\t0.010706 \t0.796595\n",
      "2  \t100   \t0.383504\t0.20243 \t0.0191758\t0.774093\n",
      "3  \t100   \t0.372841\t0.227003\t0.0106375\t0.816932\n",
      "4  \t100   \t0.432579\t0.232233\t0.0255392\t0.810178\n",
      "5  \t100   \t0.377222\t0.206494\t0.0263126\t0.807923\n",
      "6  \t100   \t0.42586 \t0.223574\t0.0321597\t0.804241\n",
      "7  \t100   \t0.38329 \t0.236381\t0.0010441\t0.804298\n",
      "8  \t100   \t0.407492\t0.219904\t0.0254853\t0.806225\n",
      "9  \t100   \t0.384088\t0.213895\t0.00210424\t0.780972\n",
      "10 \t100   \t0.411801\t0.216586\t0.0308186 \t0.801909\n",
      "11 \t100   \t0.404174\t0.221805\t0.00580673\t0.812241\n",
      "12 \t100   \t0.394456\t0.214107\t0.0293478 \t0.817851\n",
      "13 \t100   \t0.432132\t0.226251\t0.00551401\t0.817531\n",
      "14 \t100   \t0.400987\t0.228172\t0.00406249\t0.81312 \n",
      "15 \t100   \t0.41151 \t0.241907\t0.00448846\t0.815779\n",
      "16 \t100   \t0.351336\t0.231778\t0.00781666\t0.802408\n",
      "17 \t100   \t0.433676\t0.224921\t0.00761306\t0.812574\n",
      "18 \t100   \t0.430121\t0.214973\t0.00772679\t0.805869\n",
      "19 \t100   \t0.4453  \t0.240893\t0.0194395 \t0.807838\n",
      "20 \t100   \t0.358282\t0.227114\t0.00149411\t0.816802\n",
      "21 \t100   \t0.409691\t0.241673\t0.0260664 \t0.808034\n",
      "22 \t100   \t0.417249\t0.237477\t0.0102566 \t0.815353\n",
      "23 \t100   \t0.414702\t0.238925\t0.0155139 \t0.806928\n",
      "24 \t100   \t0.417525\t0.232244\t0.00454945\t0.782167\n",
      "25 \t100   \t0.395723\t0.25545 \t0.00770038\t0.812846\n",
      "26 \t100   \t0.413195\t0.239995\t0.0107016 \t0.803626\n",
      "27 \t100   \t0.383915\t0.225644\t0.000151107\t0.800889\n",
      "28 \t100   \t0.421245\t0.240481\t0.00240114 \t0.813085\n",
      "29 \t100   \t0.417146\t0.224008\t0.0273945  \t0.811968\n",
      "30 \t100   \t0.437757\t0.235084\t0.00486333 \t0.813225\n",
      "31 \t100   \t0.385612\t0.221955\t0.0041059  \t0.797218\n",
      "32 \t100   \t0.401154\t0.226156\t0.00113663 \t0.811667\n",
      "33 \t100   \t0.39505 \t0.254466\t0.00397937 \t0.805566\n",
      "34 \t100   \t0.384329\t0.2385  \t0.00586916 \t0.816828\n",
      "35 \t100   \t0.41232 \t0.235917\t0.00176702 \t0.786842\n",
      "36 \t100   \t0.382784\t0.225678\t0.0122199  \t0.804263\n",
      "37 \t100   \t0.369964\t0.229441\t0.00124427 \t0.795519\n",
      "38 \t100   \t0.334849\t0.220923\t0.0136889  \t0.797321\n",
      "39 \t100   \t0.399727\t0.241684\t0.0233103  \t0.813215\n",
      "40 \t100   \t0.417804\t0.23672 \t0.00603904 \t0.816996\n",
      "41 \t100   \t0.43738 \t0.232586\t0.00116479 \t0.817345\n",
      "42 \t100   \t0.377226\t0.217856\t0.00612751 \t0.799603\n",
      "43 \t100   \t0.420842\t0.239694\t0.00177542 \t0.813084\n",
      "44 \t100   \t0.340528\t0.234879\t0.00759902 \t0.794166\n",
      "45 \t100   \t0.372232\t0.232944\t0.00737459 \t0.80385 \n",
      "46 \t100   \t0.387026\t0.220182\t0.0214347  \t0.805574\n",
      "47 \t100   \t0.404918\t0.243115\t0.000228069\t0.817737\n",
      "48 \t100   \t0.421748\t0.197954\t0.0214229  \t0.809317\n",
      "49 \t100   \t0.445068\t0.235771\t0.00134638 \t0.809313\n",
      "50 \t100   \t0.39908 \t0.243944\t0.00991617 \t0.810827\n",
      "51 \t100   \t0.451459\t0.234649\t0.00518395 \t0.815864\n",
      "52 \t100   \t0.36342 \t0.236716\t0.000164098\t0.806293\n",
      "53 \t100   \t0.396908\t0.23022 \t0.0124456  \t0.791212\n",
      "54 \t100   \t0.428446\t0.234598\t0.0064761  \t0.817609\n",
      "55 \t100   \t0.377562\t0.217842\t0.00883717 \t0.777521\n",
      "56 \t100   \t0.393452\t0.240141\t0.0116499  \t0.810611\n",
      "57 \t100   \t0.377353\t0.232391\t0.000270148\t0.800095\n",
      "58 \t100   \t0.426438\t0.233471\t0.00516347 \t0.811109\n",
      "59 \t100   \t0.416172\t0.236749\t0.000875502\t0.813616\n",
      "60 \t100   \t0.413636\t0.241207\t0.0141766  \t0.809563\n",
      "61 \t100   \t0.421416\t0.250061\t0.0196486  \t0.816642\n",
      "62 \t100   \t0.370047\t0.240238\t0.00327263 \t0.816765\n",
      "63 \t100   \t0.431993\t0.224093\t0.0016894  \t0.812089\n",
      "64 \t100   \t0.430124\t0.236567\t0.00532201 \t0.816192\n",
      "65 \t100   \t0.436596\t0.224697\t0.000942666\t0.811545\n",
      "66 \t100   \t0.384102\t0.245013\t0.00150319 \t0.801673\n",
      "67 \t100   \t0.390169\t0.249344\t0.000219678\t0.817804\n",
      "68 \t100   \t0.383977\t0.250213\t0.00830179 \t0.81734 \n",
      "69 \t100   \t0.411522\t0.244391\t0.00406652 \t0.815796\n",
      "70 \t100   \t0.386391\t0.221682\t0.0163461  \t0.808164\n",
      "71 \t100   \t0.462715\t0.225357\t0.00654641 \t0.817677\n",
      "72 \t100   \t0.419542\t0.247697\t0.00423915 \t0.805197\n",
      "73 \t100   \t0.41282 \t0.233594\t0.00805851 \t0.816133\n",
      "74 \t100   \t0.425914\t0.231995\t0.017205   \t0.80701 \n",
      "75 \t100   \t0.393697\t0.228007\t0.00049202 \t0.78814 \n",
      "76 \t100   \t0.371758\t0.236213\t0.0026152  \t0.809289\n",
      "77 \t100   \t0.399532\t0.229724\t0.00178102 \t0.810998\n",
      "78 \t100   \t0.37845 \t0.229581\t0.00173664 \t0.816945\n",
      "79 \t100   \t0.412067\t0.225144\t0.00890735 \t0.804224\n",
      "80 \t100   \t0.430329\t0.235273\t0.000392224\t0.814638\n",
      "81 \t100   \t0.411472\t0.220831\t0.00617548 \t0.808866\n",
      "82 \t100   \t0.425949\t0.239297\t0.0564889  \t0.801761\n",
      "83 \t100   \t0.372419\t0.232861\t0.0116651  \t0.804308\n",
      "84 \t100   \t0.432406\t0.21945 \t0.0129418  \t0.805647\n",
      "85 \t100   \t0.402506\t0.252981\t0.00612388 \t0.808836\n",
      "86 \t100   \t0.432312\t0.252143\t0.0135673  \t0.814443\n",
      "87 \t100   \t0.432845\t0.227739\t0.0116035  \t0.804838\n",
      "88 \t100   \t0.382555\t0.215301\t0.00521505 \t0.812234\n",
      "89 \t100   \t0.426338\t0.246126\t0.00638141 \t0.811239\n",
      "90 \t100   \t0.462083\t0.228793\t2.17734e-05\t0.816207\n",
      "91 \t100   \t0.413875\t0.239336\t0.00526756 \t0.815639\n",
      "92 \t100   \t0.415323\t0.235136\t0.0040431  \t0.813931\n",
      "93 \t100   \t0.413369\t0.21422 \t0.0012831  \t0.80889 \n",
      "94 \t100   \t0.403578\t0.197451\t0.0244977  \t0.797919\n",
      "95 \t100   \t0.407898\t0.234266\t0.0084772  \t0.817289\n",
      "96 \t100   \t0.457734\t0.23489 \t0.00768135 \t0.815831\n",
      "97 \t100   \t0.401517\t0.235425\t0.00769752 \t0.808227\n",
      "98 \t100   \t0.385309\t0.236396\t0.0201761  \t0.817142\n",
      "99 \t100   \t0.446407\t0.230159\t0.024172   \t0.811335\n",
      "100\t100   \t0.402629\t0.233467\t0.00122416 \t0.817131\n",
      "101\t100   \t0.449154\t0.244448\t0.0017724  \t0.806979\n",
      "102\t100   \t0.37206 \t0.220943\t0.00111429 \t0.793961\n",
      "103\t100   \t0.386577\t0.230638\t0.00671551 \t0.817687\n",
      "104\t100   \t0.372007\t0.232192\t0.0035351  \t0.817385\n",
      "105\t100   \t0.408119\t0.230865\t0.0137247  \t0.815638\n",
      "106\t100   \t0.47394 \t0.227739\t0.000211825\t0.809488\n",
      "107\t100   \t0.403215\t0.229616\t0.000801262\t0.784333\n",
      "108\t100   \t0.402702\t0.20532 \t0.0167093  \t0.786582\n",
      "109\t100   \t0.42038 \t0.251356\t0.00336704 \t0.803904\n",
      "110\t100   \t0.351191\t0.238827\t0.00384048 \t0.81772 \n",
      "111\t100   \t0.419361\t0.250736\t0.00149126 \t0.80721 \n",
      "112\t100   \t0.401827\t0.231737\t0.00240886 \t0.804926\n",
      "113\t100   \t0.4607  \t0.239835\t0.00998301 \t0.809244\n",
      "114\t100   \t0.394375\t0.232594\t0.00252577 \t0.815335\n",
      "115\t100   \t0.411866\t0.252935\t0.0215125  \t0.809693\n",
      "116\t100   \t0.435162\t0.239585\t0.00263644 \t0.810908\n",
      "117\t100   \t0.412591\t0.234807\t0.00133584 \t0.796217\n",
      "118\t100   \t0.410523\t0.243465\t0.00219316 \t0.802918\n",
      "119\t100   \t0.36966 \t0.244078\t0.0160405  \t0.81462 \n",
      "120\t100   \t0.449313\t0.247636\t0.000241772\t0.806318\n",
      "121\t100   \t0.422699\t0.235071\t0.00441977 \t0.814342\n",
      "122\t100   \t0.436067\t0.249569\t0.0105267  \t0.814639\n",
      "123\t100   \t0.426415\t0.227404\t0.0111509  \t0.817011\n",
      "124\t100   \t0.395115\t0.233101\t0.00308612 \t0.802653\n",
      "125\t100   \t0.423841\t0.245405\t0.00333929 \t0.813019\n",
      "126\t100   \t0.403734\t0.227561\t0.00887048 \t0.815221\n",
      "127\t100   \t0.383103\t0.228608\t0.00807456 \t0.812712\n",
      "128\t100   \t0.404423\t0.246208\t0.00374289 \t0.81728 \n",
      "129\t100   \t0.411907\t0.241673\t0.00256528 \t0.811093\n",
      "130\t100   \t0.447831\t0.228295\t0.0127871  \t0.813344\n",
      "131\t100   \t0.412976\t0.234397\t0.00572512 \t0.813766\n",
      "132\t100   \t0.408425\t0.236534\t0.0115254  \t0.813527\n",
      "133\t100   \t0.391215\t0.240224\t0.0055294  \t0.816844\n",
      "134\t100   \t0.420271\t0.229322\t0.0182269  \t0.814658\n",
      "135\t100   \t0.435771\t0.231059\t0.0077269  \t0.801035\n",
      "136\t100   \t0.356508\t0.226683\t0.00388789 \t0.805362\n",
      "137\t100   \t0.402407\t0.218666\t0.00360052 \t0.792123\n",
      "138\t100   \t0.365108\t0.2474  \t0.0059746  \t0.815428\n",
      "139\t100   \t0.425498\t0.208405\t0.0447868  \t0.806779\n",
      "140\t100   \t0.41067 \t0.2426  \t0.00255894 \t0.806671\n",
      "141\t100   \t0.394415\t0.226187\t0.00315461 \t0.81229 \n",
      "142\t100   \t0.381524\t0.218842\t0.00950857 \t0.809472\n",
      "143\t100   \t0.415074\t0.239595\t0.0040483  \t0.814208\n",
      "144\t100   \t0.372602\t0.241354\t0.0307222  \t0.810955\n",
      "145\t100   \t0.394296\t0.210514\t0.0276172  \t0.786575\n",
      "146\t100   \t0.433858\t0.221887\t0.00666671 \t0.812821\n",
      "147\t100   \t0.361   \t0.245572\t0.00328495 \t0.815218\n",
      "148\t100   \t0.381987\t0.239875\t0.00062096 \t0.80916 \n",
      "149\t100   \t0.426001\t0.232684\t0.0167277  \t0.817235\n",
      "150\t100   \t0.43114 \t0.232458\t0.00817127 \t0.816098\n",
      "151\t100   \t0.383732\t0.240485\t0.0132205  \t0.810061\n",
      "152\t100   \t0.407481\t0.23388 \t0.0226109  \t0.806724\n",
      "153\t100   \t0.381811\t0.233522\t0.00581859 \t0.817162\n",
      "154\t100   \t0.402613\t0.244192\t0.015805   \t0.814937\n",
      "155\t100   \t0.461393\t0.242098\t0.0135245  \t0.817815\n",
      "156\t100   \t0.415562\t0.243679\t0.00304877 \t0.817607\n",
      "157\t100   \t0.39283 \t0.236823\t0.0212003  \t0.811213\n",
      "158\t100   \t0.418537\t0.223988\t0.00905439 \t0.794776\n",
      "159\t100   \t0.448967\t0.229458\t0.0097918  \t0.806498\n",
      "160\t100   \t0.390264\t0.232656\t0.0103797  \t0.811136\n",
      "161\t100   \t0.413883\t0.235021\t0.00545728 \t0.799409\n",
      "162\t100   \t0.404116\t0.233123\t0.00583965 \t0.783185\n",
      "163\t100   \t0.43126 \t0.23108 \t0.0396967  \t0.807221\n",
      "164\t100   \t0.413042\t0.230333\t0.00218753 \t0.816328\n",
      "165\t100   \t0.436412\t0.231319\t0.0161265  \t0.816813\n",
      "166\t100   \t0.391825\t0.217308\t0.00891975 \t0.784683\n",
      "167\t100   \t0.407948\t0.229484\t0.000551971\t0.817789\n",
      "168\t100   \t0.401648\t0.255019\t0.0147532  \t0.816983\n",
      "169\t100   \t0.405798\t0.23836 \t0.00229131 \t0.813103\n",
      "170\t100   \t0.426444\t0.227002\t0.00501519 \t0.80778 \n",
      "171\t100   \t0.378801\t0.238579\t0.00178745 \t0.792446\n",
      "172\t100   \t0.406932\t0.250595\t0.0101588  \t0.809869\n",
      "173\t100   \t0.384182\t0.228657\t0.00221683 \t0.809313\n",
      "174\t100   \t0.423653\t0.229365\t0.0162167  \t0.814791\n",
      "175\t100   \t0.401712\t0.222028\t0.0196514  \t0.817706\n",
      "176\t100   \t0.426131\t0.237857\t0.00252682 \t0.815881\n",
      "177\t100   \t0.437596\t0.228551\t0.00141772 \t0.800782\n",
      "178\t100   \t0.386124\t0.238083\t0.00444957 \t0.816234\n",
      "179\t100   \t0.374121\t0.225485\t0.00083841 \t0.806529\n",
      "180\t100   \t0.390412\t0.227527\t0.00536146 \t0.813352\n",
      "181\t100   \t0.41481 \t0.227933\t0.012887   \t0.816968\n",
      "182\t100   \t0.416407\t0.226805\t0.00202367 \t0.808796\n",
      "183\t100   \t0.411691\t0.231996\t0.00741947 \t0.804353\n",
      "184\t100   \t0.410672\t0.208905\t0.0205445  \t0.805889\n",
      "185\t100   \t0.422526\t0.240121\t0.0174074  \t0.808718\n",
      "186\t100   \t0.439409\t0.254604\t0.00163789 \t0.814746\n",
      "187\t100   \t0.413414\t0.215601\t0.000257479\t0.788098\n",
      "188\t100   \t0.417422\t0.237255\t0.0189354  \t0.813541\n",
      "189\t100   \t0.441073\t0.224552\t0.0280824  \t0.812187\n",
      "190\t100   \t0.36472 \t0.220205\t0.000810906\t0.786566\n",
      "191\t100   \t0.39432 \t0.253937\t0.000396185\t0.817686\n",
      "192\t100   \t0.414631\t0.219925\t0.00811509 \t0.80296 \n",
      "193\t100   \t0.419912\t0.254116\t0.00649056 \t0.816317\n",
      "194\t100   \t0.397867\t0.24968 \t0.0064963  \t0.816924\n",
      "195\t100   \t0.412866\t0.230217\t0.000492555\t0.815137\n",
      "196\t100   \t0.417597\t0.227067\t0.00677557 \t0.79246 \n",
      "197\t100   \t0.386385\t0.241834\t0.000215086\t0.795652\n",
      "198\t100   \t0.426021\t0.21702 \t0.00772237 \t0.817771\n",
      "199\t100   \t0.384928\t0.224522\t0.000659997\t0.805841\n",
      "200\t100   \t0.418746\t0.229286\t0.02722    \t0.809203\n"
     ]
    }
   ],
   "source": [
    "pop, log = eaSimple(\n",
    "    pop,\n",
    "    toolbox,\n",
    "    cxpb=cxpb,\n",
    "    mutpb=mutpb,\n",
    "    ngen=200,\n",
    "    stats=stats,\n",
    "    halloffame=hof,\n",
    "    verbose=True,\n",
    "    use_varAnd=use_varAnd\n",
    ")"
   ]
  },
  {
   "cell_type": "code",
   "execution_count": 33,
   "metadata": {},
   "outputs": [],
   "source": [
    "def test(individual, toolbox=toolbox):\n",
    "    func = toolbox.compile(expr=individual)\n",
    "    y_pred = [func(*data) for _, data in X_test.iterrows()]\n",
    "    y_labels = np.unique(y)\n",
    "    y_pred = list(map(lambda x: y_labels[0] if x > 0 else y_labels[1], y_pred))\n",
    "    return accuracy_score(y_test, y_pred)"
   ]
  },
  {
   "cell_type": "code",
   "execution_count": 34,
   "metadata": {},
   "outputs": [],
   "source": [
    "final_ind = hof[0]"
   ]
  },
  {
   "cell_type": "code",
   "execution_count": 35,
   "metadata": {},
   "outputs": [
    {
     "data": {
      "text/plain": [
       "0.8127090301003345"
      ]
     },
     "execution_count": 35,
     "metadata": {},
     "output_type": "execute_result"
    }
   ],
   "source": [
    "test(final_ind)"
   ]
  },
  {
   "cell_type": "code",
   "execution_count": 36,
   "metadata": {},
   "outputs": [],
   "source": [
    "final_ind_graph= gp.graph(final_ind)"
   ]
  },
  {
   "cell_type": "code",
   "execution_count": 37,
   "metadata": {},
   "outputs": [
    {
     "data": {
      "image/png": "[encoded data removed]",
      "text/plain": [
       "<Figure size 640x480 with 1 Axes>"
      ]
     },
     "metadata": {},
     "output_type": "display_data"
    }
   ],
   "source": [
    "import matplotlib.pyplot as plt\n",
    "import networkx as nx\n",
    "from networkx.drawing.nx_agraph import graphviz_layout\n",
    "\n",
    "nodes, edges, labels = gp.graph(final_ind)\n",
    "\n",
    "g = nx.Graph()\n",
    "g.add_nodes_from(nodes)\n",
    "g.add_edges_from(edges)\n",
    "pos = graphviz_layout(g, prog=\"dot\")\n",
    "\n",
    "nx.draw_networkx_nodes(g, pos)\n",
    "nx.draw_networkx_edges(g, pos)\n",
    "nx.draw_networkx_labels(g, pos, labels)\n",
    "plt.show()"
   ]
  },
  {
   "cell_type": "code",
   "execution_count": 38,
   "metadata": {},
   "outputs": [],
   "source": [
    "import pygraphviz as pgv\n",
    "\n",
    "g = pgv.AGraph()\n",
    "g.add_nodes_from(nodes)\n",
    "g.add_edges_from(edges)\n",
    "g.layout(prog=\"dot\")\n",
    "\n",
    "for i in nodes:\n",
    "    n = g.get_node(i)\n",
    "    n.attr[\"label\"] = labels[i]\n",
    "\n",
    "g.draw(\"tree.pdf\")"
   ]
  },
  {
   "cell_type": "code",
   "execution_count": null,
   "metadata": {},
   "outputs": [],
   "source": []
  }
 ],
 "metadata": {
  "kernelspec": {
   "display_name": "autoGA",
   "language": "python",
   "name": "python3"
  },
  "language_info": {
   "codemirror_mode": {
    "name": "ipython",
    "version": 3
   },
   "file_extension": ".py",
   "mimetype": "text/x-python",
   "name": "python",
   "nbconvert_exporter": "python",
   "pygments_lexer": "ipython3",
   "version": "3.12.0"
  }
 },
 "nbformat": 4,
 "nbformat_minor": 2
}
